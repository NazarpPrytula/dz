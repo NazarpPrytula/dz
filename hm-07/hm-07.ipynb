{
 "cells": [
  {
   "cell_type": "code",
   "execution_count": 5,
   "metadata": {},
   "outputs": [
    {
     "name": "stdout",
     "output_type": "stream",
     "text": [
      "Sidorov 3\n",
      "Ivanova 5\n",
      "Sidorova 4\n",
      "Petrova 5\n"
     ]
    }
   ],
   "source": [
    "pupils = {\n",
    "    \"Prytula\": 10,\n",
    "    \"Sidorov\": 3,\n",
    "    \"Ivanov\": 9,\n",
    "    \"Petrov\": 7,\n",
    "    \"Ivanova\": 5,\n",
    "    \"Sidorova\": 4,\n",
    "    \"Petrova\": 5,\n",
    "    \"Ivanovsky\": 6,\n",
    "}\n",
    "rate = dict()\n",
    "\n",
    "for students, mark in pupils.items():\n",
    "    if mark <= 5:\n",
    "        rate = students\n",
    "        print(rate, mark)"
   ]
  },
  {
   "cell_type": "code",
   "execution_count": null,
   "metadata": {},
   "outputs": [],
   "source": [
    "weather = {\n",
    "    \"Rivne\": 18,\n",
    "    \"Kiyv\": 21,\n",
    "    \"Zhytomir\": 17,\n",
    "    \"Odesa\" : 24,\n",
    "    \"Kharkiv\": 23,\n",
    "    \"Ternopil\": 16,\n",
    "}\n",
    "\n",
    "weather_city = input('Enter city :')\n",
    "rate = weather.get(weather_city, False)\n",
    "print(rate)"
   ]
  }
 ],
 "metadata": {
  "kernelspec": {
   "display_name": "Python 3.10.4 64-bit",
   "language": "python",
   "name": "python3"
  },
  "language_info": {
   "codemirror_mode": {
    "name": "ipython",
    "version": 3
   },
   "file_extension": ".py",
   "mimetype": "text/x-python",
   "name": "python",
   "nbconvert_exporter": "python",
   "pygments_lexer": "ipython3",
   "version": "3.10.4"
  },
  "orig_nbformat": 4,
  "vscode": {
   "interpreter": {
    "hash": "f471e039927a8574c86c851b1360931841abde39ae48ea99cac28fb0c9f40069"
   }
  }
 },
 "nbformat": 4,
 "nbformat_minor": 2
}
