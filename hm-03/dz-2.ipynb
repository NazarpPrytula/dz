{
 "cells": [
  {
   "cell_type": "code",
   "execution_count": null,
   "metadata": {},
   "outputs": [],
   "source": [
    "user_string = input(\"enter string\")\n",
    "user_char = input(\"enter one char\")\n",
    "\n",
    "count = 0\n",
    "\n",
    "\n",
    "for char in user_string:\n",
    "    if char == user_char:\n",
    "        count += 1\n",
    "\n",
    "print('Symvol lenth', user_char, 'in string', count )\n",
    "\n",
    "\n",
    "\n"
   ]
  },
  {
   "cell_type": "code",
   "execution_count": 3,
   "metadata": {},
   "outputs": [
    {
     "name": "stdout",
     "output_type": "stream",
     "text": [
      "Ви вже були в цьому місті\n"
     ]
    }
   ],
   "source": [
    "city = ['Київ', 'Рівне', 'Житомир', 'Львів', 'Тернопіль']\n",
    "city_2 = str(input('В яке місто ви хочете поїхати?'))\n",
    "\n",
    "for  cities in city:\n",
    "    if city_2 == cities:\n",
    "        print(\"Ви вже були в цьому місті\")\n",
    "        break\n",
    "else:\n",
    "    print(\"Це буде ваша перша подорож до цього міста\")\n"
   ]
  }
 ],
 "metadata": {
  "kernelspec": {
   "display_name": "Python 3.10.4 64-bit",
   "language": "python",
   "name": "python3"
  },
  "language_info": {
   "codemirror_mode": {
    "name": "ipython",
    "version": 3
   },
   "file_extension": ".py",
   "mimetype": "text/x-python",
   "name": "python",
   "nbconvert_exporter": "python",
   "pygments_lexer": "ipython3",
   "version": "3.10.4"
  },
  "orig_nbformat": 4,
  "vscode": {
   "interpreter": {
    "hash": "f471e039927a8574c86c851b1360931841abde39ae48ea99cac28fb0c9f40069"
   }
  }
 },
 "nbformat": 4,
 "nbformat_minor": 2
}
