{
 "cells": [
  {
   "cell_type": "code",
   "execution_count": null,
   "metadata": {},
   "outputs": [],
   "source": [
    "user_string = input(\"enter string\")\n",
    "user_char = input(\"enter one char\")\n",
    "\n",
    "count = 0\n",
    "\n",
    "\n",
    "for char in user_string:\n",
    "    if char == user_char:\n",
    "        count += 1"
   ]
  },
  {
   "cell_type": "code",
   "execution_count": null,
   "metadata": {},
   "outputs": [],
   "source": [
    "city = ['Київ', 'Рівне', 'Житомир', 'Львів', 'Тернопіль']\n",
    "city_2 = str(input('В яке місто ви хочете поїхати?'))\n",
    "\n",
    "for  cities in city:\n",
    "    if city_2 == cities:\n",
    "        print(\"Ви вже були в цьому місті\")\n",
    "        break\n",
    "else:\n",
    "    print(\"Це буде ваша перша подорож до цього міста\")\n"
   ]
  }
 ],
 "metadata": {
  "language_info": {
   "name": "python"
  },
  "orig_nbformat": 4
 },
 "nbformat": 4,
 "nbformat_minor": 2
}
