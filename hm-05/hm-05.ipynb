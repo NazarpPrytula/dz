{
 "cells": [
  {
   "cell_type": "code",
   "execution_count": 5,
   "metadata": {},
   "outputs": [
    {
     "name": "stdout",
     "output_type": "stream",
     "text": [
      "P  -  1\n"
     ]
    }
   ],
   "source": [
    "last_name = \"Prytula\"\n",
    "char_set = set(last_name)\n",
    "\n",
    "char_max_name = ''\n",
    "char_max_count = 0\n",
    "\n",
    "for char in char_set:\n",
    "    curent_char_count = last_name.count(char)\n",
    "    if curent_char_count > char_max_count:\n",
    "        char_max_name = char\n",
    "        char_max_count = curent_char_count\n",
    "\n",
    "\n",
    "print(char_max_name, ' - ', char_max_count)"
   ]
  },
  {
   "cell_type": "code",
   "execution_count": 1,
   "metadata": {},
   "outputs": [
    {
     "name": "stdout",
     "output_type": "stream",
     "text": [
      " nazark\n"
     ]
    }
   ],
   "source": [
    "string = input()\n",
    "\n",
    "result = \" \"\n",
    "\n",
    "for char in string:\n",
    "    if char.isdigit():\n",
    "        continue\n",
    "    else:\n",
    "        result += char\n",
    "\n",
    "print(result)"
   ]
  },
  {
   "cell_type": "code",
   "execution_count": 4,
   "metadata": {},
   "outputs": [
    {
     "name": "stdout",
     "output_type": "stream",
     "text": [
      "+380679999999\n",
      "error:  +380669999999\n",
      "error:  +380668888888\n",
      "+380507777777\n",
      "+380681151010\n"
     ]
    }
   ],
   "source": [
    "phones = [\n",
    "    '+380679999999', \n",
    "    '+380669999999',\n",
    "    '+380668888888', \n",
    "    '+380507777777',\n",
    "    '+380681151010'\n",
    "]\n",
    "\n",
    "correct_phone_len = 13\n",
    "correct_country_code = '+38'\n",
    "correct_operator_codes = ['067', '068', '097', '044', '050']\n",
    "\n",
    "\n",
    "for phone in phones:\n",
    "    if (len(phone) == correct_phone_len) and (phone[0:3] == correct_country_code) and (phone[3:6] in correct_operator_codes):\n",
    "        print(phone)\n",
    "    else:\n",
    "        print('error: ', phone)"
   ]
  }
 ],
 "metadata": {
  "kernelspec": {
   "display_name": "Python 3.10.4 64-bit",
   "language": "python",
   "name": "python3"
  },
  "language_info": {
   "codemirror_mode": {
    "name": "ipython",
    "version": 3
   },
   "file_extension": ".py",
   "mimetype": "text/x-python",
   "name": "python",
   "nbconvert_exporter": "python",
   "pygments_lexer": "ipython3",
   "version": "3.10.4"
  },
  "orig_nbformat": 4,
  "vscode": {
   "interpreter": {
    "hash": "f471e039927a8574c86c851b1360931841abde39ae48ea99cac28fb0c9f40069"
   }
  }
 },
 "nbformat": 4,
 "nbformat_minor": 2
}
