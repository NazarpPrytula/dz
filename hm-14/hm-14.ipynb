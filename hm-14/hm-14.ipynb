{
 "cells": [
  {
   "cell_type": "code",
   "execution_count": 1,
   "metadata": {},
   "outputs": [],
   "source": [
    "db_name = \"nazar-sqlite.db\"\n",
    "\n"
   ]
  },
  {
   "cell_type": "code",
   "execution_count": 9,
   "metadata": {},
   "outputs": [
    {
     "name": "stdout",
     "output_type": "stream",
     "text": [
      "-----------------------\n",
      "('Spider-Man', 2002, 7.4)\n",
      "('Shrek 2', 2004, 7.3)\n",
      "('escape from shawshank', 1994, 9.3)\n",
      "('Spider-Man', 2002, 7.4)\n",
      "('Shrek 2', 2004, 7.3)\n",
      "('escape from shawshank', 1994, 9.3)\n",
      "('Spider-Man', 2002, 7.4)\n",
      "('Shrek 2', 2004, 7.3)\n",
      "('escape from shawshank', 1994, 9.3)\n",
      "('Spider-Man', 2002, 7.4)\n",
      "('Shrek 2', 2004, 7.3)\n",
      "('escape from shawshank', 1994, 9.3)\n",
      "-----------------------\n",
      "('escape from shawshank', 1994, 9.3)\n",
      "('escape from shawshank', 1994, 9.3)\n",
      "('escape from shawshank', 1994, 9.3)\n",
      "('escape from shawshank', 1994, 9.3)\n",
      "('Spider-Man', 2002, 7.4)\n",
      "('Spider-Man', 2002, 7.4)\n",
      "('Spider-Man', 2002, 7.4)\n",
      "('Spider-Man', 2002, 7.4)\n",
      "('Shrek 2', 2004, 7.3)\n",
      "('Shrek 2', 2004, 7.3)\n",
      "('Shrek 2', 2004, 7.3)\n",
      "('Shrek 2', 2004, 7.3)\n"
     ]
    }
   ],
   "source": [
    "import sqlite3\n",
    "con = sqlite3.connect(db_name)\n",
    "\n",
    "cur = con.cursor()\n",
    "\n",
    "#cur.execute(\"\"\"CREATE TABLE movies (title, year, rating)\"\"\")\n",
    "\n",
    "\n",
    "try:\n",
    "    cur.execute(\"\"\"INSERT INTO movies VALUES ('Spider-Man', 2002, 7.4)\"\"\")\n",
    "    cur.execute(\"\"\"INSERT INTO movies VALUES ('Shrek 2', 2004, 7.3)\"\"\")\n",
    "    cur.execute(\"\"\"INSERT INTO movies VALUES ('escape from shawshank', 1994, 9.3)\"\"\")\n",
    "\n",
    "    con.commit()\n",
    "finally:\n",
    "    print(\"-----------------------\")\n",
    "\n",
    "\n",
    "try:\n",
    "    movie = cur.execute('SELECT * FROM movies')\n",
    "    for row in movie:\n",
    "        print(row)\n",
    "finally:\n",
    "    print(\"-----------------------\")\n",
    "\n",
    "\n",
    "\n",
    "\n",
    "try:\n",
    "    movies = cur.execute('SELECT * FROM movies ORDER BY year')\n",
    "    for year in movie:\n",
    "        print(year)\n",
    "finally:\n",
    "    con.close()\n",
    "\n",
    "    \n",
    "\n",
    "\n",
    "\n",
    "\n"
   ]
  }
 ],
 "metadata": {
  "kernelspec": {
   "display_name": "Python 3.10.8 64-bit (microsoft store)",
   "language": "python",
   "name": "python3"
  },
  "language_info": {
   "codemirror_mode": {
    "name": "ipython",
    "version": 3
   },
   "file_extension": ".py",
   "mimetype": "text/x-python",
   "name": "python",
   "nbconvert_exporter": "python",
   "pygments_lexer": "ipython3",
   "version": "3.10.8"
  },
  "orig_nbformat": 4,
  "vscode": {
   "interpreter": {
    "hash": "3e08f41db8d5ca7d8acd38ff6118681a85abd6e72cf81cd7f9ee26a4525b82c4"
   }
  }
 },
 "nbformat": 4,
 "nbformat_minor": 2
}
