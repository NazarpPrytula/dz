{
 "cells": [
  {
   "cell_type": "code",
   "execution_count": null,
   "metadata": {},
   "outputs": [],
   "source": [
    "def sum_func(x, y):\n",
    "    return x + y\n",
    "\n",
    "\n",
    "def sub_func(x, y):\n",
    "    return x - y\n",
    "\n",
    "def mult_func (x, y):\n",
    "    return x ** y\n",
    "\n",
    "\n",
    "OPERATIONS = {\n",
    "    '-': sub_func,\n",
    "    '+': sum_func,\n",
    "    '**': mult_func\n",
    "}\n",
    "\n",
    "\n",
    "def get_operation(operator):\n",
    "    return OPERATIONS[operator]\n",
    "\n",
    "\n",
    "handler = get_operation('-')\n",
    "handler(29, 3)           \n",
    "\n",
    "\n",
    "get_operation('**')(10, 9)"
   ]
  },
  {
   "cell_type": "code",
   "execution_count": 1,
   "metadata": {},
   "outputs": [
    {
     "name": "stdout",
     "output_type": "stream",
     "text": [
      "Client  ordered table for  people.\n"
     ]
    }
   ],
   "source": [
    "last_name = input('Enter your last name:')\n",
    "guests_count = input('what table do you want to order')\n",
    "\n",
    "def reserver(last_name,guests_count = 2 ):\n",
    "    print(\"Client {} ordered table for {} people.\".format(last_name, guests_count))\n",
    "\n",
    "reserver(last_name, guests_count)"
   ]
  },
  {
   "cell_type": "code",
   "execution_count": null,
   "metadata": {},
   "outputs": [],
   "source": [
    "list_departaments = {\n",
    "    1:'вулиця Рівненська, 3, Рівне, Рівненська область, 78562',\n",
    "    5:'вулиця Шкільна , 42, Здолбунів, Рівненська область, 89432',\n",
    "    19:'вулиця Михайла Старицького, 21а, Рівне, Рівненська область, 33020',\n",
    "    27:'улиця Соборна, 275, Рівне, Рівненська область, 33024'\n",
    "}\n",
    "\n",
    "number_of_departament = int(input(\"enter number of departament\"))\n",
    "\n",
    "def search_departament():\n",
    "    if list_departaments.get(number_of_departament):\n",
    "        print(list_departaments[number_of_departament])\n",
    "    else:\n",
    "        print('such a departament does not exist')\n",
    "\n",
    "search_departament()"
   ]
  },
  {
   "cell_type": "code",
   "execution_count": 2,
   "metadata": {},
   "outputs": [
    {
     "name": "stdout",
     "output_type": "stream",
     "text": [
      "[['kia', 'Синій'], ['Toyota', 'Синій']]\n"
     ]
    }
   ],
   "source": [
    "cars = [\n",
    "    ['ford', 'Жовтий'],\n",
    "    ['kia', 'Синій'],\n",
    "    ['BMW', 'Чорний'],\n",
    "    ['Porche', 'Червоний'],\n",
    "    ['Toyota', 'Синій'],\n",
    "    ['Lamborghini', 'Червоний']\n",
    "]\n",
    "\n",
    "color_car = input(\"select color car:\")\n",
    "\n",
    "colors = filter(lambda c: c[1] == color_car, cars)\n",
    "print(list(colors))"
   ]
  }
 ],
 "metadata": {
  "kernelspec": {
   "display_name": "Python 3.10.4 64-bit",
   "language": "python",
   "name": "python3"
  },
  "language_info": {
   "codemirror_mode": {
    "name": "ipython",
    "version": 3
   },
   "file_extension": ".py",
   "mimetype": "text/x-python",
   "name": "python",
   "nbconvert_exporter": "python",
   "pygments_lexer": "ipython3",
   "version": "3.10.4"
  },
  "orig_nbformat": 4,
  "vscode": {
   "interpreter": {
    "hash": "f471e039927a8574c86c851b1360931841abde39ae48ea99cac28fb0c9f40069"
   }
  }
 },
 "nbformat": 4,
 "nbformat_minor": 2
}
