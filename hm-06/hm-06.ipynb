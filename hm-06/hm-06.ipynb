{
 "cells": [
  {
   "cell_type": "code",
   "execution_count": 2,
   "metadata": {},
   "outputs": [
    {
     "name": "stdout",
     "output_type": "stream",
     "text": [
      "P  -  1\n"
     ]
    }
   ],
   "source": [
    "name = 'Prytula'\n",
    "char_set = set(name)\n",
    "\n",
    "char_name = ''\n",
    "char_count = 0\n",
    "\n",
    "for char in char_set:\n",
    "    curent_char_count = name.count(char)\n",
    "    if curent_char_count > char_count:\n",
    "        char_name = char\n",
    "        char_count = curent_char_count\n",
    "\n",
    "    \n",
    "print(char_name, ' - ', char_count)"
   ]
  }
 ],
 "metadata": {
  "kernelspec": {
   "display_name": "Python 3.10.4 64-bit",
   "language": "python",
   "name": "python3"
  },
  "language_info": {
   "codemirror_mode": {
    "name": "ipython",
    "version": 3
   },
   "file_extension": ".py",
   "mimetype": "text/x-python",
   "name": "python",
   "nbconvert_exporter": "python",
   "pygments_lexer": "ipython3",
   "version": "3.10.4"
  },
  "orig_nbformat": 4,
  "vscode": {
   "interpreter": {
    "hash": "f471e039927a8574c86c851b1360931841abde39ae48ea99cac28fb0c9f40069"
   }
  }
 },
 "nbformat": 4,
 "nbformat_minor": 2
}
