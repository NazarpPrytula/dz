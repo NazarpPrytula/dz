{
 "cells": [
  {
   "cell_type": "code",
   "execution_count": null,
   "metadata": {},
   "outputs": [],
   "source": [
    "country_west = [\"Північна Америка\", \"Південна Америка\"]\n",
    "country_east = [\"Австралія\", \"Євразія\", \"Африка\", \"Антарктида\"]\n",
    "country_west.extend(country_east)\n",
    "country_west.sort()\n",
    "print(country_west)"
   ]
  },
  {
   "cell_type": "code",
   "execution_count": null,
   "metadata": {},
   "outputs": [],
   "source": [
    "equipment = [\n",
    "    [\"phone\", \"samsung\", 27700],\n",
    "    [\"phone\", \"iphone\", 55890],\n",
    "    [\"TV\", \"Xiaomi\", 13499],\n",
    "    [\"notebook\", \"Lenovo\", 23999],\n",
    "]\n",
    "\n",
    "item = input(\"Ведіть тип товару:\")\n",
    "print(\"всі товари данної категорії\")\n",
    "\n",
    "\n",
    "element = 0\n",
    "\n",
    "for element in range(0):\n",
    "    if item == equipment [element] [0]:\n",
    "        print(equipment [element]) \n",
    "\n",
    "price = int(input(\"ведіть ціну товару\"))\n",
    "\n",
    "print(\"Всі товари дешевше цього значення\")\n",
    "\n",
    "x = 0\n",
    "for x in range(0):\n",
    "    if price > int(equipment [1][2]):\n",
    "        print(equipment [1])\n",
    "\n",
    "x = ('Вибачте я не зміг зробити другу задачу')\n",
    "\n",
    "\n"
   ]
  }
 ],
 "metadata": {
  "kernelspec": {
   "display_name": "Python 3.10.4 64-bit",
   "language": "python",
   "name": "python3"
  },
  "language_info": {
   "codemirror_mode": {
    "name": "ipython",
    "version": 3
   },
   "file_extension": ".py",
   "mimetype": "text/x-python",
   "name": "python",
   "nbconvert_exporter": "python",
   "pygments_lexer": "ipython3",
   "version": "3.10.4"
  },
  "orig_nbformat": 4,
  "vscode": {
   "interpreter": {
    "hash": "f471e039927a8574c86c851b1360931841abde39ae48ea99cac28fb0c9f40069"
   }
  }
 },
 "nbformat": 4,
 "nbformat_minor": 2
}
