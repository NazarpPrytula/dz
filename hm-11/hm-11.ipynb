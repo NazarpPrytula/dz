{
 "cells": [
  {
   "cell_type": "code",
   "execution_count": 1,
   "metadata": {},
   "outputs": [
    {
     "name": "stdout",
     "output_type": "stream",
     "text": [
      "Chelsea have the lowest score\n"
     ]
    }
   ],
   "source": [
    "class Footbal_club:\n",
    "    name_club = ''\n",
    "    city_club = ''\n",
    "    score_club = 0\n",
    "\n",
    "class Chempionat:\n",
    "    country = ''\n",
    "    name_chempionat = ''\n",
    "    list_command = []\n",
    "\n",
    "ChempionatUK = Chempionat\n",
    "ChempionatUK.country = 'Great Britain'\n",
    "ChempionatUK.name_chempionat = 'Championship of England'\n",
    "\n",
    "\n",
    "\n",
    "Arsenal = Footbal_club()\n",
    "Arsenal.name_club = 'Arsenal'\n",
    "Arsenal.city_club = 'London'\n",
    "Arsenal.score_club = 71\n",
    "\n",
    "\n",
    "Manchester = Footbal_club()\n",
    "Manchester.name_club = 'Manchester'\n",
    "Manchester.city_club = 'Manchester'\n",
    "Manchester.score_club = 78\n",
    "\n",
    "\n",
    "Tottenham = Footbal_club()\n",
    "Tottenham.name_club = 'Tottenham'\n",
    "Tottenham.city_club = 'London'\n",
    "Tottenham.score_club = 68\n",
    "\n",
    "Chelsea = Footbal_club()\n",
    "Chelsea.name_club = 'Chelsea'\n",
    "Chelsea.city_club = 'London'\n",
    "Chelsea.score_club = 65\n",
    "\n",
    "def worst_score_club():\n",
    "    worst_club = min(Arsenal.score_club, Manchester.score_club, Tottenham.score_club, Chelsea.score_club)\n",
    "    if worst_club == Chelsea.score_club:\n",
    "        return print('Chelsea have the lowest score') \n",
    "    elif worst_club == Tottenham.score_club:\n",
    "        return print('Tottenham have the lowest score')\n",
    "    elif worst_club == Manchester.score_club:\n",
    "        return print('Manchester have the lowest score')\n",
    "    else:\n",
    "        return print('Arsenal have the lowest score')\n",
    "\n",
    "worst_score_club()"
   ]
  }
 ],
 "metadata": {
  "kernelspec": {
   "display_name": "Python 3.10.4 64-bit",
   "language": "python",
   "name": "python3"
  },
  "language_info": {
   "codemirror_mode": {
    "name": "ipython",
    "version": 3
   },
   "file_extension": ".py",
   "mimetype": "text/x-python",
   "name": "python",
   "nbconvert_exporter": "python",
   "pygments_lexer": "ipython3",
   "version": "3.10.4"
  },
  "orig_nbformat": 4,
  "vscode": {
   "interpreter": {
    "hash": "f471e039927a8574c86c851b1360931841abde39ae48ea99cac28fb0c9f40069"
   }
  }
 },
 "nbformat": 4,
 "nbformat_minor": 2
}
