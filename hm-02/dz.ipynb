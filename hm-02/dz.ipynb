{
 "cells": [
  {
   "cell_type": "code",
   "execution_count": null,
   "metadata": {},
   "outputs": [],
   "source": [
    "last_name = str(input('Прізвище:'))\n",
    "test_ball = int(input('Кількість балів:'))\n",
    "\n",
    "if test_ball < 60:\n",
    "    result = \"Незадовільно\"\n",
    "elif test_ball <= 74:\n",
    "    result = \"Задовільно\"\n",
    "elif test_ball <= 94:\n",
    "    result = \"Добре\"\n",
    "elif test_ball <= 100:\n",
    "    result = \"Відмінно\"\n",
    "greetings = f\"Студент {last_name} набрав {test_ball} балів і отриав оцінку {result}\"\n",
    "print(greetings)"
   ]
  },
  {
   "cell_type": "code",
   "execution_count": 21,
   "metadata": {},
   "outputs": [
    {
     "name": "stdout",
     "output_type": "stream",
     "text": [
      "Рівненська область\n"
     ]
    }
   ],
   "source": [
    "operation = input(\"Enter oblast: | AA | AB | AE | AH | BK |\")\n",
    "\n",
    "\n",
    "result = None\n",
    "\n",
    "match operation:\n",
    "    case \"AA\":\n",
    "        result = \"Київська\"\n",
    "\n",
    "    case \"AB\":\n",
    "        result = \"Вінницька область\"\n",
    "\n",
    "    case \"AE\":\n",
    "        result = \"Дніпропетровська область\"\n",
    "\n",
    "    case \"AH\":\n",
    "        result = \"Донецька область\"\n",
    "\n",
    "    case \"BK\":\n",
    "        result = \"Рівненська область\"\n",
    "print(result)"
   ]
  }
 ],
 "metadata": {
  "interpreter": {
   "hash": "f471e039927a8574c86c851b1360931841abde39ae48ea99cac28fb0c9f40069"
  },
  "kernelspec": {
   "display_name": "Python 3.10.4 64-bit",
   "language": "python",
   "name": "python3"
  },
  "language_info": {
   "codemirror_mode": {
    "name": "ipython",
    "version": 3
   },
   "file_extension": ".py",
   "mimetype": "text/x-python",
   "name": "python",
   "nbconvert_exporter": "python",
   "pygments_lexer": "ipython3",
   "version": "3.10.4"
  },
  "orig_nbformat": 4
 },
 "nbformat": 4,
 "nbformat_minor": 2
}
